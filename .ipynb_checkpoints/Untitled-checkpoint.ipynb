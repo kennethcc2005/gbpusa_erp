{
 "cells": [
  {
   "cell_type": "code",
   "execution_count": 1,
   "metadata": {
    "collapsed": false
   },
   "outputs": [
    {
     "name": "stderr",
     "output_type": "stream",
     "text": [
      "/Users/zoesh/anaconda/lib/python2.7/site-packages/pandas/computation/__init__.py:19: UserWarning: The installed version of numexpr 2.4.4 is not supported in pandas and will be not be used\n",
      "\n",
      "  UserWarning)\n"
     ]
    }
   ],
   "source": [
    "import pandas as pd\n",
    "import numpy as np"
   ]
  },
  {
   "cell_type": "code",
   "execution_count": 3,
   "metadata": {
    "collapsed": false
   },
   "outputs": [],
   "source": [
    "!mkdir data"
   ]
  },
  {
   "cell_type": "code",
   "execution_count": 31,
   "metadata": {
    "collapsed": true
   },
   "outputs": [],
   "source": [
    "df = pd.read_excel('data/vendor list.xlsx', sheetname='Sheet1').reset_index().drop('index',axis = 1)"
   ]
  },
  {
   "cell_type": "code",
   "execution_count": 293,
   "metadata": {
    "collapsed": false
   },
   "outputs": [],
   "source": [
    "df2 = pd.read_csv('data/customers_temp.csv')\n",
    "# df2.drop('Job Position', inplace = True, axis = 1)"
   ]
  },
  {
   "cell_type": "code",
   "execution_count": 47,
   "metadata": {
    "collapsed": false
   },
   "outputs": [],
   "source": [
    "df_vendor = pd.read_csv('data/res.partner_temp.csv')"
   ]
  },
  {
   "cell_type": "code",
   "execution_count": 294,
   "metadata": {
    "collapsed": false
   },
   "outputs": [
    {
     "data": {
      "text/plain": [
       "array(['ID', 'Name', 'address type', 'Job Position', 'Is a Company',\n",
       "       'Related Company/ID', 'Email', 'Phone', 'Mobile', 'Street',\n",
       "       'Street2', 'ZIP', 'City', 'State', 'Country'], dtype=object)"
      ]
     },
     "execution_count": 294,
     "metadata": {},
     "output_type": "execute_result"
    }
   ],
   "source": [
    "df2.columns.values[:-7]"
   ]
  },
  {
   "cell_type": "code",
   "execution_count": 70,
   "metadata": {
    "collapsed": false
   },
   "outputs": [
    {
     "data": {
      "text/plain": [
       "0         93 Transport\n",
       "1        A&A Logistics\n",
       "2          A&T Pallets\n",
       "3    ABEEO PRODUCE LLC\n",
       "Name: Vendor, dtype: object"
      ]
     },
     "execution_count": 70,
     "metadata": {},
     "output_type": "execute_result"
    }
   ],
   "source": [
    "df['Vendor']"
   ]
  },
  {
   "cell_type": "code",
   "execution_count": 49,
   "metadata": {
    "collapsed": true
   },
   "outputs": [],
   "source": [
    "col_names = ['active', 'name', u'Balance', u'Balance Total', u'name', ]"
   ]
  },
  {
   "cell_type": "code",
   "execution_count": 50,
   "metadata": {
    "collapsed": false
   },
   "outputs": [],
   "source": [
    "df_col_names = df2.columns.values"
   ]
  },
  {
   "cell_type": "code",
   "execution_count": 62,
   "metadata": {
    "collapsed": false
   },
   "outputs": [
    {
     "data": {
      "text/html": [
       "<div>\n",
       "<table border=\"1\" class=\"dataframe\">\n",
       "  <thead>\n",
       "    <tr style=\"text-align: right;\">\n",
       "      <th></th>\n",
       "      <th>ID</th>\n",
       "      <th>Name</th>\n",
       "      <th>Job Position</th>\n",
       "      <th>Is a Company</th>\n",
       "      <th>Related Company/ID</th>\n",
       "      <th>Email</th>\n",
       "      <th>Phone</th>\n",
       "      <th>Mobile</th>\n",
       "      <th>Street</th>\n",
       "      <th>Street2</th>\n",
       "      <th>ZIP</th>\n",
       "      <th>City</th>\n",
       "      <th>State</th>\n",
       "      <th>Country</th>\n",
       "      <th>Website</th>\n",
       "      <th>TIN</th>\n",
       "      <th>Comment</th>\n",
       "      <th>Internal Reference</th>\n",
       "    </tr>\n",
       "  </thead>\n",
       "  <tbody>\n",
       "    <tr>\n",
       "      <th>0</th>\n",
       "      <td>MYID_001</td>\n",
       "      <td>Agrolait</td>\n",
       "      <td>NaN</td>\n",
       "      <td>True</td>\n",
       "      <td>NaN</td>\n",
       "      <td>agrolait@yourcompany.example.com</td>\n",
       "      <td>1 (800) 233-1234</td>\n",
       "      <td>NaN</td>\n",
       "      <td>253 Gardenside Avenue</td>\n",
       "      <td>Building 12B</td>\n",
       "      <td>94080</td>\n",
       "      <td>South San Francisco</td>\n",
       "      <td>California</td>\n",
       "      <td>United States</td>\n",
       "      <td>http://www.agrolait.com</td>\n",
       "      <td>NaN</td>\n",
       "      <td>write anything here...</td>\n",
       "      <td>X</td>\n",
       "    </tr>\n",
       "    <tr>\n",
       "      <th>1</th>\n",
       "      <td>MYID_002</td>\n",
       "      <td>Edward Foster</td>\n",
       "      <td>CEO</td>\n",
       "      <td>False</td>\n",
       "      <td>MYID_001</td>\n",
       "      <td>NaN</td>\n",
       "      <td>NaN</td>\n",
       "      <td>NaN</td>\n",
       "      <td>12 Grand Avenue</td>\n",
       "      <td>NaN</td>\n",
       "      <td>94080</td>\n",
       "      <td>San Francisco</td>\n",
       "      <td>California</td>\n",
       "      <td>United States</td>\n",
       "      <td>NaN</td>\n",
       "      <td>NaN</td>\n",
       "      <td>NaN</td>\n",
       "      <td>NaN</td>\n",
       "    </tr>\n",
       "    <tr>\n",
       "      <th>2</th>\n",
       "      <td>MYID_003</td>\n",
       "      <td>ASUSTeK</td>\n",
       "      <td>NaN</td>\n",
       "      <td>True</td>\n",
       "      <td>NaN</td>\n",
       "      <td>NaN</td>\n",
       "      <td>NaN</td>\n",
       "      <td>NaN</td>\n",
       "      <td>31 Hong Kong street</td>\n",
       "      <td>NaN</td>\n",
       "      <td>106</td>\n",
       "      <td>Taipei</td>\n",
       "      <td>NaN</td>\n",
       "      <td>NaN</td>\n",
       "      <td>http://www.asustek.com</td>\n",
       "      <td>NaN</td>\n",
       "      <td>NaN</td>\n",
       "      <td>NaN</td>\n",
       "    </tr>\n",
       "    <tr>\n",
       "      <th>3</th>\n",
       "      <td>MYID_004</td>\n",
       "      <td>Camptocamp</td>\n",
       "      <td>NaN</td>\n",
       "      <td>True</td>\n",
       "      <td>NaN</td>\n",
       "      <td>camptocamp@yourcompany.example.com</td>\n",
       "      <td>+33 4 49 23 44 54</td>\n",
       "      <td>NaN</td>\n",
       "      <td>93, Press Avenue</td>\n",
       "      <td>NaN</td>\n",
       "      <td>73377</td>\n",
       "      <td>Le Bourget du Lac</td>\n",
       "      <td>NaN</td>\n",
       "      <td>France</td>\n",
       "      <td>NaN</td>\n",
       "      <td>NaN</td>\n",
       "      <td>NaN</td>\n",
       "      <td>NaN</td>\n",
       "    </tr>\n",
       "  </tbody>\n",
       "</table>\n",
       "</div>"
      ],
      "text/plain": [
       "         ID           Name Job Position Is a Company Related Company/ID  \\\n",
       "0  MYID_001       Agrolait          NaN         True                NaN   \n",
       "1  MYID_002  Edward Foster          CEO        False           MYID_001   \n",
       "2  MYID_003        ASUSTeK          NaN         True                NaN   \n",
       "3  MYID_004     Camptocamp          NaN         True                NaN   \n",
       "\n",
       "                                Email              Phone  Mobile  \\\n",
       "0    agrolait@yourcompany.example.com   1 (800) 233-1234     NaN   \n",
       "1                                 NaN                NaN     NaN   \n",
       "2                                 NaN                NaN     NaN   \n",
       "3  camptocamp@yourcompany.example.com  +33 4 49 23 44 54     NaN   \n",
       "\n",
       "                  Street       Street2    ZIP                 City  \\\n",
       "0  253 Gardenside Avenue  Building 12B  94080  South San Francisco   \n",
       "1        12 Grand Avenue           NaN  94080        San Francisco   \n",
       "2    31 Hong Kong street           NaN    106               Taipei   \n",
       "3       93, Press Avenue           NaN  73377    Le Bourget du Lac   \n",
       "\n",
       "        State        Country                  Website  TIN  \\\n",
       "0  California  United States  http://www.agrolait.com  NaN   \n",
       "1  California  United States                      NaN  NaN   \n",
       "2         NaN            NaN   http://www.asustek.com  NaN   \n",
       "3         NaN         France                      NaN  NaN   \n",
       "\n",
       "                  Comment Internal Reference  \n",
       "0  write anything here...                  X  \n",
       "1                     NaN                NaN  \n",
       "2                     NaN                NaN  \n",
       "3                     NaN                NaN  "
      ]
     },
     "execution_count": 62,
     "metadata": {},
     "output_type": "execute_result"
    }
   ],
   "source": [
    "df2"
   ]
  },
  {
   "cell_type": "code",
   "execution_count": 267,
   "metadata": {
    "collapsed": false
   },
   "outputs": [],
   "source": [
    "ID = ['VA_0000' + str(i) for i in range(df.shape[0])]"
   ]
  },
  {
   "cell_type": "code",
   "execution_count": 268,
   "metadata": {
    "collapsed": false
   },
   "outputs": [],
   "source": [
    "Name = list(df.Vendor.values)"
   ]
  },
  {
   "cell_type": "code",
   "execution_count": 313,
   "metadata": {
    "collapsed": false
   },
   "outputs": [],
   "source": [
    "Job_Position = [None for i in range(df.shape[0])]"
   ]
  },
  {
   "cell_type": "code",
   "execution_count": 314,
   "metadata": {
    "collapsed": true
   },
   "outputs": [],
   "source": [
    "Is_Company = [True for i in range(df.shape[0])]"
   ]
  },
  {
   "cell_type": "code",
   "execution_count": 315,
   "metadata": {
    "collapsed": false
   },
   "outputs": [],
   "source": [
    "Email = [None for i in range(df.shape[0])]"
   ]
  },
  {
   "cell_type": "code",
   "execution_count": 342,
   "metadata": {
    "collapsed": true
   },
   "outputs": [],
   "source": [
    "import re\n",
    "reg = re.compile(\"[-+]?\\d+[\\.]?\\d*[eE]?[-+]?\\d*\")\n",
    "Phone = ['-'.join([i.lstrip('-') for i in reg.findall(j)]) if not pd.isnull(j) else j for j in df['Main Phone']]"
   ]
  },
  {
   "cell_type": "code",
   "execution_count": 317,
   "metadata": {
    "collapsed": true
   },
   "outputs": [],
   "source": [
    "Mobile = [np.nan for i in range(df.shape[0])]"
   ]
  },
  {
   "cell_type": "code",
   "execution_count": 318,
   "metadata": {
    "collapsed": true
   },
   "outputs": [],
   "source": [
    "Street = list(df['Bill from 1'])"
   ]
  },
  {
   "cell_type": "code",
   "execution_count": 319,
   "metadata": {
    "collapsed": true
   },
   "outputs": [],
   "source": [
    "Street2 = list(df['Bill from 2'])"
   ]
  },
  {
   "cell_type": "code",
   "execution_count": 320,
   "metadata": {
    "collapsed": true
   },
   "outputs": [],
   "source": [
    "Zip = [i[-5:] for i in df['Bill from 3']]"
   ]
  },
  {
   "cell_type": "code",
   "execution_count": 321,
   "metadata": {
    "collapsed": false
   },
   "outputs": [],
   "source": [
    "City = [' '.join(i.split(' ')[:-2]).replace(',', '') for i in df['Bill from 3']]\n",
    "State = [i.split(' ')[-2] for i in df['Bill from 3']]"
   ]
  },
  {
   "cell_type": "code",
   "execution_count": 322,
   "metadata": {
    "collapsed": false
   },
   "outputs": [],
   "source": [
    "Country = ['United States' for i in range(df.shape[0])]"
   ]
  },
  {
   "cell_type": "code",
   "execution_count": 323,
   "metadata": {
    "collapsed": true
   },
   "outputs": [],
   "source": [
    "Website = [np.nan for i in range(df.shape[0])]\n",
    "address_type =['Invoice address' for i in range(df.shape[0])]"
   ]
  },
  {
   "cell_type": "code",
   "execution_count": 324,
   "metadata": {
    "collapsed": false
   },
   "outputs": [],
   "source": [
    "related_company_id = [np.nan for i in range(df.shape[0])]\n",
    "df_v = pd.DataFrame(np.array([ID, Name, address_type, Job_Position, Is_Company, related_company_id,Email,Phone,Mobile,Street,Street2,Zip,City, State,Country]).T)"
   ]
  },
  {
   "cell_type": "code",
   "execution_count": 325,
   "metadata": {
    "collapsed": false
   },
   "outputs": [],
   "source": [
    "df_v.columns = df2.columns.values[:-7]"
   ]
  },
  {
   "cell_type": "code",
   "execution_count": 326,
   "metadata": {
    "collapsed": false
   },
   "outputs": [],
   "source": [
    "df_v.to_csv('data/test.csv')"
   ]
  },
  {
   "cell_type": "code",
   "execution_count": 349,
   "metadata": {
    "collapsed": false
   },
   "outputs": [],
   "source": [
    "sub_ID = ['VA_0000' + str(df.shape[0]+i) for i in range(df.shape[0])]\n",
    "sub_Name = [re.sub('[^A-Za-z ]+', '', j).lstrip() if not pd.isnull(j) else j for j in df['Main Phone']]\n",
    "sub_address_type = ['Shipping address' for i in range(df.shape[0])]\n",
    "sub_Is_Company = [False for i in range(df.shape[0])]\n",
    "sub_related_company_id = list(df_v.ID)\n",
    "sub_Email = [None for i in range(df.shape[0])]\n",
    "sub_Street = list(df['Ship from 1'])\n",
    "sub_Street2 = list(df['Ship from 2'])\n",
    "sub_Zip = [i[-5:] for i in df['Ship from 3']]\n",
    "sub_City = [' '.join(i.split(' ')[:-2]).replace(',', '') for i in df['Ship from 3']]\n",
    "sub_State = [i.split(' ')[-2] for i in df['Ship from 3']]\n",
    "sub_Country = ['United States' for i in range(df.shape[0])]\n",
    "df_v2 = pd.DataFrame(np.array([sub_ID, sub_Name, sub_address_type, Job_Position, sub_Is_Company, sub_related_company_id,Email,Phone,Mobile,sub_Street,sub_Street2,sub_Zip,sub_City, sub_State,sub_Country]).T)"
   ]
  },
  {
   "cell_type": "code",
   "execution_count": 350,
   "metadata": {
    "collapsed": false
   },
   "outputs": [],
   "source": [
    "df_v2.columns = df2.columns.values[:-7]"
   ]
  },
  {
   "cell_type": "code",
   "execution_count": 356,
   "metadata": {
    "collapsed": false
   },
   "outputs": [],
   "source": [
    "df_new = pd.concat([df_v,df_v2])\n",
    "df_new.to_csv('test.csv')"
   ]
  },
  {
   "cell_type": "code",
   "execution_count": 165,
   "metadata": {
    "collapsed": true
   },
   "outputs": [],
   "source": [
    "import re\n"
   ]
  },
  {
   "cell_type": "code",
   "execution_count": 196,
   "metadata": {
    "collapsed": false
   },
   "outputs": [],
   "source": [
    "reg = re.compile(\"[-+]?\\d+[\\.]?\\d*[eE]?[-+]?\\d*\")"
   ]
  },
  {
   "cell_type": "code",
   "execution_count": 259,
   "metadata": {
    "collapsed": false
   },
   "outputs": [],
   "source": []
  },
  {
   "cell_type": "code",
   "execution_count": null,
   "metadata": {
    "collapsed": true
   },
   "outputs": [],
   "source": []
  }
 ],
 "metadata": {
  "kernelspec": {
   "display_name": "Python 2",
   "language": "python",
   "name": "python2"
  },
  "language_info": {
   "codemirror_mode": {
    "name": "ipython",
    "version": 2
   },
   "file_extension": ".py",
   "mimetype": "text/x-python",
   "name": "python",
   "nbconvert_exporter": "python",
   "pygments_lexer": "ipython2",
   "version": "2.7.11"
  }
 },
 "nbformat": 4,
 "nbformat_minor": 0
}
