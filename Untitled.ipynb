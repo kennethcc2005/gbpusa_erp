{
 "cells": [
  {
   "cell_type": "code",
   "execution_count": 1,
   "metadata": {
    "collapsed": false
   },
   "outputs": [
    {
     "name": "stderr",
     "output_type": "stream",
     "text": [
      "/Users/zoesh/anaconda/lib/python2.7/site-packages/pandas/computation/__init__.py:19: UserWarning: The installed version of numexpr 2.4.4 is not supported in pandas and will be not be used\n",
      "\n",
      "  UserWarning)\n"
     ]
    }
   ],
   "source": [
    "import pandas as pd\n",
    "import numpy as np\n",
    "import re\n"
   ]
  },
  {
   "cell_type": "code",
   "execution_count": 3,
   "metadata": {
    "collapsed": false
   },
   "outputs": [],
   "source": [
    "!mkdir data"
   ]
  },
  {
   "cell_type": "code",
   "execution_count": 31,
   "metadata": {
    "collapsed": true
   },
   "outputs": [],
   "source": [
    "df = pd.read_excel('data/vendor list.xlsx', sheetname='Sheet1').reset_index().drop('index',axis = 1)"
   ]
  },
  {
   "cell_type": "code",
   "execution_count": 293,
   "metadata": {
    "collapsed": false
   },
   "outputs": [],
   "source": [
    "df2 = pd.read_csv('data/customers_temp.csv')\n",
    "# df2.drop('Job Position', inplace = True, axis = 1)"
   ]
  },
  {
   "cell_type": "code",
   "execution_count": 47,
   "metadata": {
    "collapsed": false
   },
   "outputs": [],
   "source": [
    "df_vendor = pd.read_csv('data/res.partner_temp.csv')"
   ]
  },
  {
   "cell_type": "code",
   "execution_count": 294,
   "metadata": {
    "collapsed": false
   },
   "outputs": [
    {
     "data": {
      "text/plain": [
       "array(['ID', 'Name', 'address type', 'Job Position', 'Is a Company',\n",
       "       'Related Company/ID', 'Email', 'Phone', 'Mobile', 'Street',\n",
       "       'Street2', 'ZIP', 'City', 'State', 'Country'], dtype=object)"
      ]
     },
     "execution_count": 294,
     "metadata": {},
     "output_type": "execute_result"
    }
   ],
   "source": [
    "df2.columns.values[:-7]"
   ]
  },
  {
   "cell_type": "code",
   "execution_count": 50,
   "metadata": {
    "collapsed": false
   },
   "outputs": [],
   "source": [
    "df_col_names = df2.columns.values"
   ]
  },
  {
   "cell_type": "code",
   "execution_count": 267,
   "metadata": {
    "collapsed": false
   },
   "outputs": [],
   "source": [
    "ID = ['VA_0000' + str(i) for i in range(df.shape[0])]"
   ]
  },
  {
   "cell_type": "code",
   "execution_count": 268,
   "metadata": {
    "collapsed": false
   },
   "outputs": [],
   "source": [
    "Name = list(df.Vendor.values)"
   ]
  },
  {
   "cell_type": "code",
   "execution_count": 313,
   "metadata": {
    "collapsed": false
   },
   "outputs": [],
   "source": [
    "Job_Position = [None for i in range(df.shape[0])]"
   ]
  },
  {
   "cell_type": "code",
   "execution_count": 314,
   "metadata": {
    "collapsed": true
   },
   "outputs": [],
   "source": [
    "Is_Company = [True for i in range(df.shape[0])]"
   ]
  },
  {
   "cell_type": "code",
   "execution_count": 315,
   "metadata": {
    "collapsed": false
   },
   "outputs": [],
   "source": [
    "Email = [None for i in range(df.shape[0])]"
   ]
  },
  {
   "cell_type": "code",
   "execution_count": 342,
   "metadata": {
    "collapsed": true
   },
   "outputs": [],
   "source": [
    "reg = re.compile(\"[-+]?\\d+[\\.]?\\d*[eE]?[-+]?\\d*\")\n",
    "Phone = ['-'.join([i.lstrip('-') for i in reg.findall(j)]) if not pd.isnull(j) else j for j in df['Main Phone']]"
   ]
  },
  {
   "cell_type": "code",
   "execution_count": 317,
   "metadata": {
    "collapsed": true
   },
   "outputs": [],
   "source": [
    "Mobile = [np.nan for i in range(df.shape[0])]"
   ]
  },
  {
   "cell_type": "code",
   "execution_count": 318,
   "metadata": {
    "collapsed": true
   },
   "outputs": [],
   "source": [
    "Street = list(df['Bill from 1'])"
   ]
  },
  {
   "cell_type": "code",
   "execution_count": 319,
   "metadata": {
    "collapsed": true
   },
   "outputs": [],
   "source": [
    "Street2 = list(df['Bill from 2'])"
   ]
  },
  {
   "cell_type": "code",
   "execution_count": 320,
   "metadata": {
    "collapsed": true
   },
   "outputs": [],
   "source": [
    "Zip = [i[-5:] for i in df['Bill from 3']]"
   ]
  },
  {
   "cell_type": "code",
   "execution_count": 321,
   "metadata": {
    "collapsed": false
   },
   "outputs": [],
   "source": [
    "City = [' '.join(i.split(' ')[:-2]).replace(',', '') for i in df['Bill from 3']]\n",
    "State = [i.split(' ')[-2] for i in df['Bill from 3']]"
   ]
  },
  {
   "cell_type": "code",
   "execution_count": 322,
   "metadata": {
    "collapsed": false
   },
   "outputs": [],
   "source": [
    "Country = ['United States' for i in range(df.shape[0])]"
   ]
  },
  {
   "cell_type": "code",
   "execution_count": 323,
   "metadata": {
    "collapsed": true
   },
   "outputs": [],
   "source": [
    "Website = [np.nan for i in range(df.shape[0])]\n",
    "address_type =['Invoice address' for i in range(df.shape[0])]"
   ]
  },
  {
   "cell_type": "code",
   "execution_count": 324,
   "metadata": {
    "collapsed": false
   },
   "outputs": [],
   "source": [
    "related_company_id = [np.nan for i in range(df.shape[0])]\n",
    "df_v = pd.DataFrame(np.array([ID, Name, address_type, Job_Position, Is_Company, related_company_id,Email,Phone,Mobile,Street,Street2,Zip,City, State,Country]).T)"
   ]
  },
  {
   "cell_type": "code",
   "execution_count": 325,
   "metadata": {
    "collapsed": false
   },
   "outputs": [],
   "source": [
    "df_v.columns = df2.columns.values[:-7]"
   ]
  },
  {
   "cell_type": "code",
   "execution_count": 326,
   "metadata": {
    "collapsed": false
   },
   "outputs": [],
   "source": [
    "df_v.to_csv('data/test.csv')"
   ]
  },
  {
   "cell_type": "code",
   "execution_count": 349,
   "metadata": {
    "collapsed": false
   },
   "outputs": [],
   "source": [
    "sub_ID = ['VA_0000' + str(df.shape[0]+i) for i in range(df.shape[0])]\n",
    "sub_Name = [re.sub('[^A-Za-z ]+', '', j).lstrip() if not pd.isnull(j) else j for j in df['Main Phone']]\n",
    "sub_address_type = ['Shipping address' for i in range(df.shape[0])]\n",
    "sub_Is_Company = [False for i in range(df.shape[0])]\n",
    "sub_related_company_id = list(df_v.ID)\n",
    "sub_Email = [None for i in range(df.shape[0])]\n",
    "sub_Street = list(df['Ship from 1'])\n",
    "sub_Street2 = list(df['Ship from 2'])\n",
    "sub_Zip = [i[-5:] for i in df['Ship from 3']]\n",
    "sub_City = [' '.join(i.split(' ')[:-2]).replace(',', '') for i in df['Ship from 3']]\n",
    "sub_State = [i.split(' ')[-2] for i in df['Ship from 3']]\n",
    "sub_Country = ['United States' for i in range(df.shape[0])]\n",
    "df_v2 = pd.DataFrame(np.array([sub_ID, sub_Name, sub_address_type, Job_Position, sub_Is_Company, sub_related_company_id,Email,Phone,Mobile,sub_Street,sub_Street2,sub_Zip,sub_City, sub_State,sub_Country]).T)"
   ]
  },
  {
   "cell_type": "code",
   "execution_count": 350,
   "metadata": {
    "collapsed": false
   },
   "outputs": [],
   "source": [
    "df_v2.columns = df2.columns.values[:-7]"
   ]
  },
  {
   "cell_type": "code",
   "execution_count": 362,
   "metadata": {
    "collapsed": false
   },
   "outputs": [],
   "source": [
    "df_new = pd.concat([df_v,df_v2])\n",
    "df_new.reset_index(inplace=True)\n",
    "df_new.to_csv('data/test.csv')"
   ]
  },
  {
   "cell_type": "code",
   "execution_count": 361,
   "metadata": {
    "collapsed": false
   },
   "outputs": [
    {
     "data": {
      "text/html": [
       "<div>\n",
       "<table border=\"1\" class=\"dataframe\">\n",
       "  <thead>\n",
       "    <tr style=\"text-align: right;\">\n",
       "      <th></th>\n",
       "      <th>index</th>\n",
       "      <th>ID</th>\n",
       "      <th>Name</th>\n",
       "      <th>address type</th>\n",
       "      <th>Job Position</th>\n",
       "      <th>Is a Company</th>\n",
       "      <th>Related Company/ID</th>\n",
       "      <th>Email</th>\n",
       "      <th>Phone</th>\n",
       "      <th>Mobile</th>\n",
       "      <th>Street</th>\n",
       "      <th>Street2</th>\n",
       "      <th>ZIP</th>\n",
       "      <th>City</th>\n",
       "      <th>State</th>\n",
       "      <th>Country</th>\n",
       "    </tr>\n",
       "  </thead>\n",
       "  <tbody>\n",
       "    <tr>\n",
       "      <th>0</th>\n",
       "      <td>0</td>\n",
       "      <td>VA_00000</td>\n",
       "      <td>93 Transport</td>\n",
       "      <td>Invoice address</td>\n",
       "      <td>None</td>\n",
       "      <td>True</td>\n",
       "      <td>NaN</td>\n",
       "      <td>None</td>\n",
       "      <td>626-589-7622</td>\n",
       "      <td>NaN</td>\n",
       "      <td>93 Transport</td>\n",
       "      <td>1586 W. Lorane Way</td>\n",
       "      <td>92802</td>\n",
       "      <td>Anaheim</td>\n",
       "      <td>CA</td>\n",
       "      <td>United States</td>\n",
       "    </tr>\n",
       "    <tr>\n",
       "      <th>1</th>\n",
       "      <td>1</td>\n",
       "      <td>VA_00001</td>\n",
       "      <td>A&amp;A Logistics</td>\n",
       "      <td>Invoice address</td>\n",
       "      <td>None</td>\n",
       "      <td>True</td>\n",
       "      <td>NaN</td>\n",
       "      <td>None</td>\n",
       "      <td>NaN</td>\n",
       "      <td>NaN</td>\n",
       "      <td>A&amp;A Logistics</td>\n",
       "      <td>7638 MANZANAR AVE</td>\n",
       "      <td>90660</td>\n",
       "      <td>PICO RIVERA</td>\n",
       "      <td>CA</td>\n",
       "      <td>United States</td>\n",
       "    </tr>\n",
       "    <tr>\n",
       "      <th>2</th>\n",
       "      <td>2</td>\n",
       "      <td>VA_00002</td>\n",
       "      <td>A&amp;T Pallets</td>\n",
       "      <td>Invoice address</td>\n",
       "      <td>None</td>\n",
       "      <td>True</td>\n",
       "      <td>NaN</td>\n",
       "      <td>None</td>\n",
       "      <td>323-974-8008</td>\n",
       "      <td>NaN</td>\n",
       "      <td>A&amp;T Pallets</td>\n",
       "      <td>1512 DATE ST</td>\n",
       "      <td>90640</td>\n",
       "      <td>MONTEBELLO</td>\n",
       "      <td>CA</td>\n",
       "      <td>United States</td>\n",
       "    </tr>\n",
       "    <tr>\n",
       "      <th>3</th>\n",
       "      <td>3</td>\n",
       "      <td>VA_00003</td>\n",
       "      <td>ABEEO PRODUCE LLC</td>\n",
       "      <td>Invoice address</td>\n",
       "      <td>None</td>\n",
       "      <td>True</td>\n",
       "      <td>NaN</td>\n",
       "      <td>None</td>\n",
       "      <td>NaN</td>\n",
       "      <td>NaN</td>\n",
       "      <td>ABEEO PRODUCE LLC</td>\n",
       "      <td>P O BOX 722371</td>\n",
       "      <td>92172</td>\n",
       "      <td>SAN DIEGO</td>\n",
       "      <td>CA</td>\n",
       "      <td>United States</td>\n",
       "    </tr>\n",
       "    <tr>\n",
       "      <th>4</th>\n",
       "      <td>0</td>\n",
       "      <td>VA_00004</td>\n",
       "      <td>Wilson</td>\n",
       "      <td>Shipping address</td>\n",
       "      <td>None</td>\n",
       "      <td>False</td>\n",
       "      <td>VA_00000</td>\n",
       "      <td>None</td>\n",
       "      <td>626-589-7622</td>\n",
       "      <td>NaN</td>\n",
       "      <td>93 Transport</td>\n",
       "      <td>1586 W. Lorane Way</td>\n",
       "      <td>92802</td>\n",
       "      <td>Anaheim</td>\n",
       "      <td>CA</td>\n",
       "      <td>United States</td>\n",
       "    </tr>\n",
       "    <tr>\n",
       "      <th>5</th>\n",
       "      <td>1</td>\n",
       "      <td>VA_00005</td>\n",
       "      <td>NaN</td>\n",
       "      <td>Shipping address</td>\n",
       "      <td>None</td>\n",
       "      <td>False</td>\n",
       "      <td>VA_00001</td>\n",
       "      <td>None</td>\n",
       "      <td>NaN</td>\n",
       "      <td>NaN</td>\n",
       "      <td>A&amp;A Logistics</td>\n",
       "      <td>7638 MANZANAR AVE</td>\n",
       "      <td>90660</td>\n",
       "      <td>PICO RIVERA</td>\n",
       "      <td>CA</td>\n",
       "      <td>United States</td>\n",
       "    </tr>\n",
       "    <tr>\n",
       "      <th>6</th>\n",
       "      <td>2</td>\n",
       "      <td>VA_00006</td>\n",
       "      <td>JUAN TORRES</td>\n",
       "      <td>Shipping address</td>\n",
       "      <td>None</td>\n",
       "      <td>False</td>\n",
       "      <td>VA_00002</td>\n",
       "      <td>None</td>\n",
       "      <td>323-974-8008</td>\n",
       "      <td>NaN</td>\n",
       "      <td>A&amp;T Pallets</td>\n",
       "      <td>1512 DATE ST</td>\n",
       "      <td>90640</td>\n",
       "      <td>MONTEBELLO</td>\n",
       "      <td>CA</td>\n",
       "      <td>United States</td>\n",
       "    </tr>\n",
       "    <tr>\n",
       "      <th>7</th>\n",
       "      <td>3</td>\n",
       "      <td>VA_00007</td>\n",
       "      <td>NaN</td>\n",
       "      <td>Shipping address</td>\n",
       "      <td>None</td>\n",
       "      <td>False</td>\n",
       "      <td>VA_00003</td>\n",
       "      <td>None</td>\n",
       "      <td>NaN</td>\n",
       "      <td>NaN</td>\n",
       "      <td>ABEEO PRODUCE LLC</td>\n",
       "      <td>P O BOX 722371</td>\n",
       "      <td>92172</td>\n",
       "      <td>SAN DIEGO</td>\n",
       "      <td>CA</td>\n",
       "      <td>United States</td>\n",
       "    </tr>\n",
       "  </tbody>\n",
       "</table>\n",
       "</div>"
      ],
      "text/plain": [
       "   index        ID               Name      address type Job Position  \\\n",
       "0      0  VA_00000       93 Transport   Invoice address         None   \n",
       "1      1  VA_00001      A&A Logistics   Invoice address         None   \n",
       "2      2  VA_00002        A&T Pallets   Invoice address         None   \n",
       "3      3  VA_00003  ABEEO PRODUCE LLC   Invoice address         None   \n",
       "4      0  VA_00004             Wilson  Shipping address         None   \n",
       "5      1  VA_00005                NaN  Shipping address         None   \n",
       "6      2  VA_00006        JUAN TORRES  Shipping address         None   \n",
       "7      3  VA_00007                NaN  Shipping address         None   \n",
       "\n",
       "  Is a Company Related Company/ID Email         Phone Mobile  \\\n",
       "0         True                NaN  None  626-589-7622    NaN   \n",
       "1         True                NaN  None           NaN    NaN   \n",
       "2         True                NaN  None  323-974-8008    NaN   \n",
       "3         True                NaN  None           NaN    NaN   \n",
       "4        False           VA_00000  None  626-589-7622    NaN   \n",
       "5        False           VA_00001  None           NaN    NaN   \n",
       "6        False           VA_00002  None  323-974-8008    NaN   \n",
       "7        False           VA_00003  None           NaN    NaN   \n",
       "\n",
       "              Street             Street2    ZIP         City State  \\\n",
       "0       93 Transport  1586 W. Lorane Way  92802      Anaheim    CA   \n",
       "1      A&A Logistics   7638 MANZANAR AVE  90660  PICO RIVERA    CA   \n",
       "2        A&T Pallets        1512 DATE ST  90640   MONTEBELLO    CA   \n",
       "3  ABEEO PRODUCE LLC      P O BOX 722371  92172    SAN DIEGO    CA   \n",
       "4       93 Transport  1586 W. Lorane Way  92802      Anaheim    CA   \n",
       "5      A&A Logistics   7638 MANZANAR AVE  90660  PICO RIVERA    CA   \n",
       "6        A&T Pallets        1512 DATE ST  90640   MONTEBELLO    CA   \n",
       "7  ABEEO PRODUCE LLC      P O BOX 722371  92172    SAN DIEGO    CA   \n",
       "\n",
       "         Country  \n",
       "0  United States  \n",
       "1  United States  \n",
       "2  United States  \n",
       "3  United States  \n",
       "4  United States  \n",
       "5  United States  \n",
       "6  United States  \n",
       "7  United States  "
      ]
     },
     "execution_count": 361,
     "metadata": {},
     "output_type": "execute_result"
    }
   ],
   "source": [
    "df_new"
   ]
  },
  {
   "cell_type": "code",
   "execution_count": 196,
   "metadata": {
    "collapsed": false
   },
   "outputs": [],
   "source": [
    "reg = re.compile(\"[-+]?\\d+[\\.]?\\d*[eE]?[-+]?\\d*\")"
   ]
  },
  {
   "cell_type": "code",
   "execution_count": 259,
   "metadata": {
    "collapsed": false
   },
   "outputs": [],
   "source": []
  },
  {
   "cell_type": "code",
   "execution_count": null,
   "metadata": {
    "collapsed": true
   },
   "outputs": [],
   "source": []
  }
 ],
 "metadata": {
  "kernelspec": {
   "display_name": "Python 2",
   "language": "python",
   "name": "python2"
  },
  "language_info": {
   "codemirror_mode": {
    "name": "ipython",
    "version": 2
   },
   "file_extension": ".py",
   "mimetype": "text/x-python",
   "name": "python",
   "nbconvert_exporter": "python",
   "pygments_lexer": "ipython2",
   "version": "2.7.11"
  }
 },
 "nbformat": 4,
 "nbformat_minor": 0
}
